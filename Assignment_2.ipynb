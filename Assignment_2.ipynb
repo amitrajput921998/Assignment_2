{
 "cells": [
  {
   "cell_type": "markdown",
   "id": "43f7292e",
   "metadata": {},
   "source": [
    "1.What are the two values of the Boolean data type? How do you write them?"
   ]
  },
  {
   "cell_type": "markdown",
   "id": "13c37b62",
   "metadata": {},
   "source": [
    "1-ans) There were two values of boolean data type. They are True and False.\n",
    "We can denote them like True or False"
   ]
  },
  {
   "cell_type": "markdown",
   "id": "96e8e555",
   "metadata": {},
   "source": [
    "2. What are the three different types of Boolean operators?\n",
    "a. They are AND, OR, NOT"
   ]
  },
  {
   "cell_type": "markdown",
   "id": "651f3511",
   "metadata": {},
   "source": [
    "3. Make a list of each Boolean operator's truth tables (i.e. every possible combination of Boolean values for the operator and what it evaluate )."
   ]
  },
  {
   "cell_type": "markdown",
   "id": "9920575b",
   "metadata": {},
   "source": [
    "Ans-3) For AND\n",
    "A     B      A and B\n",
    "True  True   False\n",
    "True  False  False\n",
    "False True   False\n",
    "False False  False"
   ]
  },
  {
   "cell_type": "markdown",
   "id": "40a42475",
   "metadata": {},
   "source": [
    "Ans-3) For AND\n",
    "A     B      A or B\n",
    "True  True   True\n",
    "True  False  True\n",
    "False True   True\n",
    "False False  False"
   ]
  },
  {
   "cell_type": "markdown",
   "id": "7c08eddf",
   "metadata": {},
   "source": [
    "Ans-3) For NOT\n",
    "A     A != A\n",
    "True   False\n",
    "False  True"
   ]
  },
  {
   "cell_type": "markdown",
   "id": "0f71982a",
   "metadata": {},
   "source": [
    "4. What are the values of the following expressions?"
   ]
  },
  {
   "cell_type": "code",
   "execution_count": 16,
   "id": "4ecccd91",
   "metadata": {},
   "outputs": [
    {
     "data": {
      "text/plain": [
       "False"
      ]
     },
     "execution_count": 16,
     "metadata": {},
     "output_type": "execute_result"
    }
   ],
   "source": [
    "(5 > 4) and (3 == 5)"
   ]
  },
  {
   "cell_type": "code",
   "execution_count": 17,
   "id": "76d7c244",
   "metadata": {},
   "outputs": [
    {
     "data": {
      "text/plain": [
       "False"
      ]
     },
     "execution_count": 17,
     "metadata": {},
     "output_type": "execute_result"
    }
   ],
   "source": [
    "not (5 > 4)"
   ]
  },
  {
   "cell_type": "code",
   "execution_count": 18,
   "id": "5c87d247",
   "metadata": {},
   "outputs": [
    {
     "data": {
      "text/plain": [
       "True"
      ]
     },
     "execution_count": 18,
     "metadata": {},
     "output_type": "execute_result"
    }
   ],
   "source": [
    "(5 > 4) or (3 == 5)"
   ]
  },
  {
   "cell_type": "code",
   "execution_count": 19,
   "id": "2e2dd7f1",
   "metadata": {},
   "outputs": [
    {
     "data": {
      "text/plain": [
       "False"
      ]
     },
     "execution_count": 19,
     "metadata": {},
     "output_type": "execute_result"
    }
   ],
   "source": [
    "not ((5 > 4) or (3 == 5))"
   ]
  },
  {
   "cell_type": "code",
   "execution_count": 20,
   "id": "6c29c7b2",
   "metadata": {},
   "outputs": [
    {
     "data": {
      "text/plain": [
       "False"
      ]
     },
     "execution_count": 20,
     "metadata": {},
     "output_type": "execute_result"
    }
   ],
   "source": [
    "(True and True) and (True == False)"
   ]
  },
  {
   "cell_type": "code",
   "execution_count": 21,
   "id": "7ed99667",
   "metadata": {},
   "outputs": [
    {
     "data": {
      "text/plain": [
       "True"
      ]
     },
     "execution_count": 21,
     "metadata": {},
     "output_type": "execute_result"
    }
   ],
   "source": [
    "(not False) or (not True)"
   ]
  },
  {
   "cell_type": "markdown",
   "id": "3de3ebfc",
   "metadata": {},
   "source": [
    "5. What are the six comparison operators?"
   ]
  },
  {
   "cell_type": "markdown",
   "id": "d0116b04",
   "metadata": {},
   "source": [
    "Ans-5) The six comparison operater are \n",
    "i)equal \n",
    "ii)not equal\n",
    "iii)greater than\n",
    "iv)less than\n",
    "v)greater than  or equal to\n",
    "vi) less than or equal to"
   ]
  },
  {
   "cell_type": "code",
   "execution_count": 24,
   "id": "f6c185ef",
   "metadata": {},
   "outputs": [
    {
     "data": {
      "text/plain": [
       "True"
      ]
     },
     "execution_count": 24,
     "metadata": {},
     "output_type": "execute_result"
    }
   ],
   "source": [
    "# example\n",
    "x=10\n",
    "y=5\n",
    "x>y\n"
   ]
  },
  {
   "cell_type": "code",
   "execution_count": 25,
   "id": "96e69b40",
   "metadata": {},
   "outputs": [
    {
     "data": {
      "text/plain": [
       "False"
      ]
     },
     "execution_count": 25,
     "metadata": {},
     "output_type": "execute_result"
    }
   ],
   "source": [
    "x<y\n"
   ]
  },
  {
   "cell_type": "code",
   "execution_count": 26,
   "id": "8b0266de",
   "metadata": {},
   "outputs": [
    {
     "data": {
      "text/plain": [
       "True"
      ]
     },
     "execution_count": 26,
     "metadata": {},
     "output_type": "execute_result"
    }
   ],
   "source": [
    "x>=y\n"
   ]
  },
  {
   "cell_type": "code",
   "execution_count": 27,
   "id": "b3b73072",
   "metadata": {},
   "outputs": [
    {
     "data": {
      "text/plain": [
       "False"
      ]
     },
     "execution_count": 27,
     "metadata": {},
     "output_type": "execute_result"
    }
   ],
   "source": [
    "x<=y\n"
   ]
  },
  {
   "cell_type": "code",
   "execution_count": 28,
   "id": "b0be507d",
   "metadata": {},
   "outputs": [
    {
     "data": {
      "text/plain": [
       "False"
      ]
     },
     "execution_count": 28,
     "metadata": {},
     "output_type": "execute_result"
    }
   ],
   "source": [
    "x==y\n"
   ]
  },
  {
   "cell_type": "code",
   "execution_count": 29,
   "id": "d9a2094d",
   "metadata": {},
   "outputs": [
    {
     "data": {
      "text/plain": [
       "True"
      ]
     },
     "execution_count": 29,
     "metadata": {},
     "output_type": "execute_result"
    }
   ],
   "source": [
    "x!=y"
   ]
  },
  {
   "cell_type": "markdown",
   "id": "6939b43d",
   "metadata": {},
   "source": [
    "6. How do you tell the difference between the equal to and assignment operators?Describe a condition and when you would use one."
   ]
  },
  {
   "cell_type": "markdown",
   "id": "f9f86262",
   "metadata": {},
   "source": [
    "Ans-6) So basic difference is we used assignment operater we are assigning a value to a variable. And equal to is used to compare two variable.\n",
    "Example\n",
    "if you want to assign 10 value to a variable then assignment operater is used. And if you want to compare x and y variable that is x is equal to y then equal to operater is used"
   ]
  },
  {
   "cell_type": "code",
   "execution_count": 30,
   "id": "d2ed1abc",
   "metadata": {},
   "outputs": [
    {
     "data": {
      "text/plain": [
       "True"
      ]
     },
     "execution_count": 30,
     "metadata": {},
     "output_type": "execute_result"
    }
   ],
   "source": [
    "# Example\n",
    "x=10  #assignment \n",
    "y=10\n",
    "x==y #comparision operater"
   ]
  },
  {
   "cell_type": "markdown",
   "id": "73bf714e",
   "metadata": {},
   "source": [
    "7. Identify the three blocks in this code:"
   ]
  },
  {
   "cell_type": "code",
   "execution_count": 32,
   "id": "0ce04ec8",
   "metadata": {},
   "outputs": [
    {
     "name": "stdout",
     "output_type": "stream",
     "text": [
      "ham\n",
      "spam\n",
      "spam\n"
     ]
    }
   ],
   "source": [
    "spam = 0\n",
    "if spam == 10:\n",
    "    print('eggs') #first block\n",
    "if spam > 5:\n",
    "    print('bacon') #second block\n",
    "else:\n",
    "    print('ham') #third block\n",
    "    print('spam')\n",
    "    print('spam')\n"
   ]
  },
  {
   "cell_type": "markdown",
   "id": "3c82a1d5",
   "metadata": {},
   "source": [
    "8. Write code that prints Hello if 1 is stored in spam, prints Howdy if 2 is stored in spam, and prints Greetings! if anything else is stored in spam."
   ]
  },
  {
   "cell_type": "code",
   "execution_count": 34,
   "id": "16ec1e2e",
   "metadata": {},
   "outputs": [
    {
     "name": "stdout",
     "output_type": "stream",
     "text": [
      "2\n",
      "Howdy\n"
     ]
    }
   ],
   "source": [
    "# Ans-8)\n",
    "spam=int(input())\n",
    "if spam==1:\n",
    "    print(\"Hello\")\n",
    "elif spam==2:\n",
    "    print(\"Howdy\")\n",
    "else:\n",
    "    print(\"Greetings!\")"
   ]
  },
  {
   "cell_type": "markdown",
   "id": "47697c01",
   "metadata": {},
   "source": [
    "9.If your programme is stuck in an endless loop, what keys you’ll press?\n",
    "Ans-9) Ctrl+C"
   ]
  },
  {
   "cell_type": "markdown",
   "id": "56dd859d",
   "metadata": {},
   "source": [
    "10. How can you tell the difference between break and continue?\n",
    "Ans-10) Break is used to stop  the loop even the conditional is true . And while continue will stop the current iteration and jump to the next. "
   ]
  },
  {
   "cell_type": "markdown",
   "id": "37f52b66",
   "metadata": {},
   "source": [
    "11. In a for loop, what is the difference between range(10), range(0, 10), and range(0, 10, 1)?"
   ]
  },
  {
   "cell_type": "markdown",
   "id": "d941a4f8",
   "metadata": {},
   "source": [
    "Ans=11 Range will give you a sequence of number starting from 0 "
   ]
  },
  {
   "cell_type": "code",
   "execution_count": 35,
   "id": "d8946d1c",
   "metadata": {},
   "outputs": [
    {
     "name": "stdout",
     "output_type": "stream",
     "text": [
      "0\n",
      "1\n",
      "2\n",
      "3\n",
      "4\n",
      "5\n",
      "6\n",
      "7\n",
      "8\n",
      "9\n"
     ]
    }
   ],
   "source": [
    "# For example\n",
    "for i in range(10):\n",
    "    print(i)\n",
    "# This will give you a range from (0,9)    "
   ]
  },
  {
   "cell_type": "code",
   "execution_count": 36,
   "id": "ad957b63",
   "metadata": {},
   "outputs": [
    {
     "name": "stdout",
     "output_type": "stream",
     "text": [
      "0\n",
      "1\n",
      "2\n",
      "3\n",
      "4\n",
      "5\n",
      "6\n",
      "7\n",
      "8\n",
      "9\n"
     ]
    }
   ],
   "source": [
    "for i in range(0,10):\n",
    "    print(i)\n",
    "# Here the output will be same but you have already given the starting and the ending value.    "
   ]
  },
  {
   "cell_type": "code",
   "execution_count": 37,
   "id": "075fcece",
   "metadata": {},
   "outputs": [
    {
     "name": "stdout",
     "output_type": "stream",
     "text": [
      "0\n",
      "1\n",
      "2\n",
      "3\n",
      "4\n",
      "5\n",
      "6\n",
      "7\n",
      "8\n",
      "9\n"
     ]
    }
   ],
   "source": [
    "for i in range(0,10,1):\n",
    "    print(i)\n",
    "# The output will be the same but here you have provided the starting as well as ending and the step which you have given to take in the between the sequence     "
   ]
  },
  {
   "cell_type": "markdown",
   "id": "8a7011fe",
   "metadata": {},
   "source": [
    "12. Write a short program that prints the numbers 1 to 10 using a for loop. Then write an equivalent program that prints the numbers 1 to 10 using a while loop."
   ]
  },
  {
   "cell_type": "code",
   "execution_count": 46,
   "id": "0e5f5903",
   "metadata": {},
   "outputs": [
    {
     "name": "stdout",
     "output_type": "stream",
     "text": [
      "1 2 3 4 5 6 7 8 9 10 "
     ]
    }
   ],
   "source": [
    "for i in range(1,11):\n",
    "    print(i,end=\" \")"
   ]
  },
  {
   "cell_type": "code",
   "execution_count": 2,
   "id": "56aad605",
   "metadata": {},
   "outputs": [
    {
     "name": "stdout",
     "output_type": "stream",
     "text": [
      "1\n",
      "2\n",
      "3\n",
      "4\n",
      "5\n",
      "6\n",
      "7\n",
      "8\n",
      "9\n",
      "10\n"
     ]
    }
   ],
   "source": [
    "i=1\n",
    "while(i<=10):\n",
    "    print(i)\n",
    "    i+=1"
   ]
  },
  {
   "cell_type": "markdown",
   "id": "e74c7012",
   "metadata": {},
   "source": [
    "13. If you had a function named bacon() inside a module named spam, how would you call it after importing spam?\n",
    "Ans-13)To call the function we have to import the module then we call the function with spam.bacon()."
   ]
  }
 ],
 "metadata": {
  "kernelspec": {
   "display_name": "Python 3 (ipykernel)",
   "language": "python",
   "name": "python3"
  },
  "language_info": {
   "codemirror_mode": {
    "name": "ipython",
    "version": 3
   },
   "file_extension": ".py",
   "mimetype": "text/x-python",
   "name": "python",
   "nbconvert_exporter": "python",
   "pygments_lexer": "ipython3",
   "version": "3.9.7"
  }
 },
 "nbformat": 4,
 "nbformat_minor": 5
}
